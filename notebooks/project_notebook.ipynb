{
 "cells": [
  {
   "cell_type": "code",
   "execution_count": 1,
   "id": "307a8975-33cd-4cac-a1e2-8c4c52e3c7cc",
   "metadata": {
    "editable": true,
    "slideshow": {
     "slide_type": ""
    },
    "tags": []
   },
   "outputs": [],
   "source": [
    "# Импорты необходимых библиотек\n",
    "import os\n",
    "import sys\n",
    "module_path = os.path.abspath(os.path.join('..'))\n",
    "if module_path not in sys.path:\n",
    "\tsys.path.append(module_path)\n",
    "\n",
    "from src.pipe import Pipe\n",
    "from src.elbow import PipeElbow\n",
    "from src.tee import PipeTee\n",
    "from src.transition import PipeTransition\n",
    "from src.support import PipeSupport\n",
    "from src.armature import Armature\n"
   ]
  },
  {
   "cell_type": "markdown",
   "id": "c45d07d8-4440-4fcf-a990-79560de112a7",
   "metadata": {},
   "source": [
    "# Пример создания и использования трубопровода"
   ]
  },
  {
   "cell_type": "code",
   "execution_count": 2,
   "id": "28873c1c-6b02-45bb-bca1-1276df673973",
   "metadata": {
    "editable": true,
    "slideshow": {
     "slide_type": ""
    },
    "tags": []
   },
   "outputs": [
    {
     "name": "stdout",
     "output_type": "stream",
     "text": [
      "Труба ГОСТ 8732-78 20х4 длиной 150м, масса 1м трубы 1.58 кг, масса всей трубы: 237.0\n"
     ]
    }
   ],
   "source": [
    "print(Pipe(\"ГОСТ 8732-78\", 20, 4, 150))"
   ]
  },
  {
   "cell_type": "code",
   "execution_count": 3,
   "id": "e7f9675b-4f42-44e0-958f-aebcf6bca526",
   "metadata": {},
   "outputs": [
    {
     "data": {
      "text/plain": [
       "Отвод 90-1-57х4 (DN 50.0) ГОСТ 17375-2001, масса одного отвода: 0.7 кг, общая масса: 7.0 кг"
      ]
     },
     "execution_count": 3,
     "metadata": {},
     "output_type": "execute_result"
    }
   ],
   "source": [
    "PipeElbow(57, 4, 90, 10)"
   ]
  },
  {
   "cell_type": "code",
   "execution_count": 4,
   "id": "67256f15-6f26-47f7-8527-34d35f7dabe7",
   "metadata": {},
   "outputs": [
    {
     "data": {
      "text/plain": [
       "Тройник 2-57.0х45.0 (DN 50) ГОСТ 17376-2001, масса одного тройника: 0.6 кг, общая масса: 3 кг"
      ]
     },
     "execution_count": 4,
     "metadata": {},
     "output_type": "execute_result"
    }
   ],
   "source": [
    "PipeTee(57,4,45,3,5)"
   ]
  },
  {
   "cell_type": "code",
   "execution_count": 5,
   "id": "967e8a0c-8837-488c-aad1-4fbe077d0ae8",
   "metadata": {},
   "outputs": [
    {
     "data": {
      "text/plain": [
       "Переход 57.0х32.0 (DN 50) ГОСТ 17378-2001, масса одного перехода: 0.2 кг, общая масса: 1 кг"
      ]
     },
     "execution_count": 5,
     "metadata": {},
     "output_type": "execute_result"
    }
   ],
   "source": [
    "PipeTransition(57, 3, 32, 2, 3)"
   ]
  },
  {
   "cell_type": "code",
   "execution_count": 6,
   "id": "3ecfc1f6-9114-4d36-ade9-97adbbd20db8",
   "metadata": {},
   "outputs": [
    {
     "data": {
      "text/plain": [
       "Опора типа КП исполнения А21 из стали ВСт3пс для трубопровода Dн=57мм"
      ]
     },
     "execution_count": 6,
     "metadata": {},
     "output_type": "execute_result"
    }
   ],
   "source": [
    "PipeSupport(57, \"КП\", \"А21\")"
   ]
  },
  {
   "cell_type": "code",
   "execution_count": 7,
   "id": "6ae592df",
   "metadata": {},
   "outputs": [
    {
     "data": {
      "text/plain": [
       "Задвижка 30с41нж DN57 PN16"
      ]
     },
     "execution_count": 7,
     "metadata": {},
     "output_type": "execute_result"
    }
   ],
   "source": [
    "Armature(57, 16, '30с41нж', 2, 2,)"
   ]
  }
 ],
 "metadata": {
  "kernelspec": {
   "display_name": ".venv",
   "language": "python",
   "name": "python3"
  },
  "language_info": {
   "codemirror_mode": {
    "name": "ipython",
    "version": 3
   },
   "file_extension": ".py",
   "mimetype": "text/x-python",
   "name": "python",
   "nbconvert_exporter": "python",
   "pygments_lexer": "ipython3",
   "version": "3.12.5"
  }
 },
 "nbformat": 4,
 "nbformat_minor": 5
}
