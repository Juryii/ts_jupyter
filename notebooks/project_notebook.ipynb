{
 "cells": [
  {
   "cell_type": "code",
   "execution_count": 1,
   "id": "307a8975-33cd-4cac-a1e2-8c4c52e3c7cc",
   "metadata": {
    "editable": true,
    "slideshow": {
     "slide_type": ""
    },
    "tags": []
   },
   "outputs": [],
   "source": [
    "# Импорты необходимых библиотек\n",
    "import os\n",
    "import sys\n",
    "module_path = os.path.abspath(os.path.join('..'))\n",
    "if module_path not in sys.path:\n",
    "    sys.path.append(module_path)\n",
    "\n",
    "from src.pipe import Pipe"
   ]
  },
  {
   "cell_type": "markdown",
   "id": "c45d07d8-4440-4fcf-a990-79560de112a7",
   "metadata": {},
   "source": [
    "# Пример создания и использования трубопровода"
   ]
  },
  {
   "cell_type": "code",
   "execution_count": 2,
   "id": "28873c1c-6b02-45bb-bca1-1276df673973",
   "metadata": {
    "editable": true,
    "slideshow": {
     "slide_type": ""
    },
    "tags": []
   },
   "outputs": [],
   "source": [
    "pipes = Pipe(\"ГОСТ 8732-78\", 20, 4, 150)"
   ]
  },
  {
   "cell_type": "code",
   "execution_count": 3,
   "id": "e7f9675b-4f42-44e0-958f-aebcf6bca526",
   "metadata": {},
   "outputs": [
    {
     "data": {
      "text/plain": [
       "'ГОСТ 8732-78'"
      ]
     },
     "execution_count": 3,
     "metadata": {},
     "output_type": "execute_result"
    }
   ],
   "source": [
    "pipes.gost_name"
   ]
  },
  {
   "cell_type": "code",
   "execution_count": 4,
   "id": "67256f15-6f26-47f7-8527-34d35f7dabe7",
   "metadata": {},
   "outputs": [
    {
     "data": {
      "text/plain": [
       "20"
      ]
     },
     "execution_count": 4,
     "metadata": {},
     "output_type": "execute_result"
    }
   ],
   "source": [
    "pipes.pipe_dn"
   ]
  },
  {
   "cell_type": "code",
   "execution_count": 5,
   "id": "967e8a0c-8837-488c-aad1-4fbe077d0ae8",
   "metadata": {},
   "outputs": [
    {
     "data": {
      "text/plain": [
       "237.0"
      ]
     },
     "execution_count": 5,
     "metadata": {},
     "output_type": "execute_result"
    }
   ],
   "source": [
    "pipes.pipe_mass"
   ]
  },
  {
   "cell_type": "code",
   "execution_count": 6,
   "id": "3ecfc1f6-9114-4d36-ade9-97adbbd20db8",
   "metadata": {},
   "outputs": [
    {
     "data": {
      "text/plain": [
       "1.58"
      ]
     },
     "execution_count": 6,
     "metadata": {},
     "output_type": "execute_result"
    }
   ],
   "source": [
    "pipes.mass_per_meter"
   ]
  },
  {
   "cell_type": "code",
   "execution_count": 7,
   "id": "eba54b8f-9505-437b-aa06-3717211a28b3",
   "metadata": {},
   "outputs": [
    {
     "name": "stdout",
     "output_type": "stream",
     "text": [
      "Труба ГОСТ 8732-78 20х4 длиной 150м, масса 1м трубы 1.58 кг, масса всей трубы: 237.0\n"
     ]
    }
   ],
   "source": [
    "print(pipes)"
   ]
  },
  {
   "cell_type": "code",
   "execution_count": null,
   "id": "06a7feac-3135-4f00-be84-e753a6e18323",
   "metadata": {},
   "outputs": [],
   "source": []
  }
 ],
 "metadata": {
  "kernelspec": {
   "display_name": "ts_jupyter",
   "language": "python",
   "name": "ts_jupyter"
  },
  "language_info": {
   "codemirror_mode": {
    "name": "ipython",
    "version": 3
   },
   "file_extension": ".py",
   "mimetype": "text/x-python",
   "name": "python",
   "nbconvert_exporter": "python",
   "pygments_lexer": "ipython3",
   "version": "3.13.0"
  }
 },
 "nbformat": 4,
 "nbformat_minor": 5
}
